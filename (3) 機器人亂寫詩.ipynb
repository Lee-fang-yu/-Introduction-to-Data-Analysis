{
 "cells": [
  {
   "cell_type": "markdown",
   "metadata": {},
   "source": [
    "# 機器人亂寫詩"
   ]
  },
  {
   "cell_type": "code",
   "execution_count": 15,
   "metadata": {},
   "outputs": [],
   "source": [
    "%matplotlib inline\n",
    "\n",
    "import numpy as np\n",
    "import matplotlib.pyplot as plt\n",
    "import pandas as pd"
   ]
  },
  {
   "cell_type": "code",
   "execution_count": 16,
   "metadata": {},
   "outputs": [],
   "source": [
    "from numpy.random import randint\n",
    "from numpy.random import choice"
   ]
  },
  {
   "cell_type": "code",
   "execution_count": 17,
   "metadata": {},
   "outputs": [
    {
     "name": "stdout",
     "output_type": "stream",
     "text": [
      "5,4,7,7,1,4,9,9,3,1,"
     ]
    }
   ],
   "source": [
    "for i in range(10):\n",
    "    #end=',':就是讓他們被逗點隔開\n",
    "    print(randint(1, 10), end=',')"
   ]
  },
  {
   "cell_type": "code",
   "execution_count": 18,
   "metadata": {},
   "outputs": [],
   "source": [
    "#之所以會用''' '''是由於一般字串只能寫成一行沒辦法這樣分行\n",
    "words='''\n",
    "我\n",
    "我的\n",
    "妳\n",
    "妳的\n",
    "心\n",
    "溫柔\n",
    "日子\n",
    "雨\n",
    "風\n",
    "天空\n",
    "雲\n",
    "等待\n",
    "哭泣\n",
    "戀愛\n",
    "相遇\n",
    "分離\n",
    "忘記\n",
    "心醉\n",
    "驀然\n",
    "回首\n",
    "吹過\n",
    "思念\n",
    "靈魂\n",
    "思慕\n",
    "停止\n",
    "頃城\n",
    "踟躕\n",
    "依戀\n",
    "木神\n",
    "巧目盼兮\n",
    "心扉\n",
    "椎間盤'''"
   ]
  },
  {
   "cell_type": "markdown",
   "metadata": {},
   "source": [
    "### 一格一格隔開"
   ]
  },
  {
   "cell_type": "code",
   "execution_count": 27,
   "metadata": {},
   "outputs": [],
   "source": [
    "phrase = words.split('\\n')"
   ]
  },
  {
   "cell_type": "code",
   "execution_count": 28,
   "metadata": {},
   "outputs": [
    {
     "name": "stdout",
     "output_type": "stream",
     "text": [
      "['', '我', '我的', '妳', '妳的', '心', '溫柔', '日子', '雨', '風', '天空', '雲', '等待', '哭泣', '戀愛', '相遇', '分離', '忘記', '心醉', '驀然', '回首', '吹過', '思念', '靈魂', '思慕', '停止', '頃城', '踟躕', '依戀', '木神', '巧目盼兮', '心扉', '椎間盤']\n"
     ]
    }
   ],
   "source": [
    "print(phrase)"
   ]
  },
  {
   "cell_type": "markdown",
   "metadata": {},
   "source": [
    "### 將需要的字找出:\n",
    "* randint\n",
    "* choice"
   ]
  },
  {
   "cell_type": "code",
   "execution_count": 21,
   "metadata": {},
   "outputs": [
    {
     "data": {
      "text/plain": [
       "array(['等待', '相遇', '哭泣', '停止', '溫柔'], dtype='<U4')"
      ]
     },
     "execution_count": 21,
     "metadata": {},
     "output_type": "execute_result"
    }
   ],
   "source": [
    "choice(phrase, 5)"
   ]
  },
  {
   "cell_type": "code",
   "execution_count": 29,
   "metadata": {},
   "outputs": [
    {
     "name": "stdout",
     "output_type": "stream",
     "text": [
      "相遇 天空 妳的 木神 天空 妳的 相遇\n",
      "椎間盤 依戀 妳 思慕 雲\n",
      "依戀 心 巧目盼兮 吹過 木神 頃城 忘記\n"
     ]
    }
   ],
   "source": [
    "#整首詩長度\n",
    "l = randint(3, 6)\n",
    "\n",
    "for i in range(l):\n",
    "    \n",
    "    #某句話有幾個字(此處為5-7個字)\n",
    "    ll = randint(5, 8)\n",
    "    \n",
    "    #選詞\n",
    "    egg =  choice(phrase , ll)\n",
    "    ham = ' '.join(egg)\n",
    "    print(ham)"
   ]
  },
  {
   "cell_type": "markdown",
   "metadata": {},
   "source": [
    "### 存檔"
   ]
  },
  {
   "cell_type": "code",
   "execution_count": 30,
   "metadata": {},
   "outputs": [
    {
     "name": "stdout",
     "output_type": "stream",
     "text": [
      "File `poemm.py` exists. Overwrite (y/[N])?  y\n",
      "The following commands were written to file `poemm.py`:\n",
      "from numpy.random import randint\n",
      "from numpy.random import choice\n",
      "#之所以會用''' '''是由於一般字串只能寫成一行沒辦法這樣分行\n",
      "words='''\n",
      "我\n",
      "我的\n",
      "妳\n",
      "妳的\n",
      "心\n",
      "溫柔\n",
      "日子\n",
      "雨\n",
      "風\n",
      "天空\n",
      "雲\n",
      "等待\n",
      "哭泣\n",
      "戀愛\n",
      "相遇\n",
      "分離\n",
      "忘記\n",
      "心醉\n",
      "驀然\n",
      "回首\n",
      "吹過\n",
      "思念\n",
      "靈魂\n",
      "思慕\n",
      "停止\n",
      "頃城\n",
      "踟躕\n",
      "依戀\n",
      "木神\n",
      "巧目盼兮\n",
      "心扉\n",
      "椎間盤'''\n",
      "phrase = words.split('\\n')\n",
      "#整首詩長度\n",
      "l = randint(3, 6)\n",
      "\n",
      "for i in range(l):\n",
      "    \n",
      "    #某句話有幾個字(此處為5-7個字)\n",
      "    ll = randint(5, 8)\n",
      "    \n",
      "    #選詞\n",
      "    egg =  choice(phrase , ll)\n",
      "    ham = ' '.join(egg)\n",
      "    print(ham)\n"
     ]
    }
   ],
   "source": [
    "from numpy.random import choice\n",
    "%save \"poemm.py\" 16 18 27 29 #此處特別注意!!! 最好將 \"from numpy.random import randint\"、\"from numpy.random import choice\"與import分開寫，否則存檔會有問題"
   ]
  },
  {
   "cell_type": "markdown",
   "metadata": {},
   "source": [
    "###  跑詩(看note)\n",
    "*  記得是跑 \"poemm.py\" 而不是機器人寫詩"
   ]
  },
  {
   "cell_type": "markdown",
   "metadata": {},
   "source": [
    "![說明](g.jpg)"
   ]
  },
  {
   "cell_type": "code",
   "execution_count": null,
   "metadata": {},
   "outputs": [],
   "source": []
  },
  {
   "cell_type": "code",
   "execution_count": null,
   "metadata": {},
   "outputs": [],
   "source": []
  },
  {
   "cell_type": "code",
   "execution_count": null,
   "metadata": {},
   "outputs": [],
   "source": []
  },
  {
   "cell_type": "code",
   "execution_count": null,
   "metadata": {},
   "outputs": [],
   "source": []
  }
 ],
 "metadata": {
  "kernelspec": {
   "display_name": "Python 3",
   "language": "python",
   "name": "python3"
  },
  "language_info": {
   "codemirror_mode": {
    "name": "ipython",
    "version": 3
   },
   "file_extension": ".py",
   "mimetype": "text/x-python",
   "name": "python",
   "nbconvert_exporter": "python",
   "pygments_lexer": "ipython3",
   "version": "3.7.4"
  }
 },
 "nbformat": 4,
 "nbformat_minor": 2
}
