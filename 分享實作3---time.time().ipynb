{
 "cells": [
  {
   "cell_type": "markdown",
   "metadata": {},
   "source": [
    "# time.time()"
   ]
  },
  {
   "cell_type": "code",
   "execution_count": 2,
   "metadata": {},
   "outputs": [],
   "source": [
    "import numpy as np\n",
    "import time"
   ]
  },
  {
   "cell_type": "markdown",
   "metadata": {},
   "source": [
    "### 1 time.time() : 可以傳回從 1970/1/1 00:00:00 算起至今的秒數"
   ]
  },
  {
   "cell_type": "code",
   "execution_count": 3,
   "metadata": {},
   "outputs": [
    {
     "name": "stdout",
     "output_type": "stream",
     "text": [
      "1596596896.5019982\n"
     ]
    }
   ],
   "source": [
    "second=time.time()\n",
    "print(second)"
   ]
  },
  {
   "cell_type": "markdown",
   "metadata": {},
   "source": [
    "### 2 time.localtime() 可以將 time.time() 所產生的秒數，轉換為 struct_time 格式的本地時間"
   ]
  },
  {
   "cell_type": "code",
   "execution_count": 4,
   "metadata": {},
   "outputs": [
    {
     "name": "stdout",
     "output_type": "stream",
     "text": [
      "結果: time.struct_time(tm_year=2020, tm_mon=8, tm_mday=5, tm_hour=10, tm_min=44, tm_sec=23, tm_wday=2, tm_yday=218, tm_isdst=0)\n"
     ]
    }
   ],
   "source": [
    "result = time.localtime(1596595463)\n",
    "print(\"結果:\", result)"
   ]
  },
  {
   "cell_type": "markdown",
   "metadata": {},
   "source": [
    "### 2.1 struct_time 格式的好處就是可以直接取出日期或時間裡面的任意數值："
   ]
  },
  {
   "cell_type": "code",
   "execution_count": 5,
   "metadata": {},
   "outputs": [
    {
     "name": "stdout",
     "output_type": "stream",
     "text": [
      "年： 2020\n",
      "月： 8\n",
      "日： 5\n",
      "時： 10\n",
      "分： 44\n",
      "秒： 23\n",
      "星期幾： 2\n"
     ]
    }
   ],
   "source": [
    "print(\"年：\", result.tm_year)\n",
    "print(\"月：\", result.tm_mon)\n",
    "print(\"日：\", result.tm_mday)\n",
    "print(\"時：\", result.tm_hour)\n",
    "print(\"分：\", result.tm_min)\n",
    "print(\"秒：\", result.tm_sec)\n",
    "print(\"星期幾：\", result.tm_wday)"
   ]
  },
  {
   "cell_type": "markdown",
   "metadata": {},
   "source": [
    "### 2.2 time.asctime() 函數可將 local_time 格式的時間轉為文字"
   ]
  },
  {
   "cell_type": "code",
   "execution_count": 6,
   "metadata": {},
   "outputs": [
    {
     "name": "stdout",
     "output_type": "stream",
     "text": [
      "Wed Aug  5 10:44:23 2020\n"
     ]
    }
   ],
   "source": [
    "l = time.localtime(1596595463)\n",
    "f = time.asctime(l)\n",
    "print(f)"
   ]
  },
  {
   "cell_type": "markdown",
   "metadata": {},
   "source": [
    "### 2.3 time.gmtime() 函數的用途跟 time.localtime() 函數類似，只不過它傳回的時間是世界協調時間（UTC）"
   ]
  },
  {
   "cell_type": "code",
   "execution_count": 7,
   "metadata": {},
   "outputs": [
    {
     "name": "stdout",
     "output_type": "stream",
     "text": [
      "結果: time.struct_time(tm_year=2019, tm_mon=9, tm_mday=25, tm_hour=2, tm_min=3, tm_sec=16, tm_wday=2, tm_yday=268, tm_isdst=0)\n"
     ]
    }
   ],
   "source": [
    "resultt = time.gmtime(1569376996)\n",
    "print(\"結果:\", resultt)"
   ]
  },
  {
   "cell_type": "markdown",
   "metadata": {},
   "source": [
    "### 2.4 time.mktime() 函數跟 time.localtime() 互為反函數，可將 struct_time 格式的時間轉為秒數"
   ]
  },
  {
   "cell_type": "code",
   "execution_count": 8,
   "metadata": {},
   "outputs": [
    {
     "name": "stdout",
     "output_type": "stream",
     "text": [
      "1596595463.0\n"
     ]
    }
   ],
   "source": [
    "t = time.localtime(1596595463)\n",
    "s = time.mktime(t)\n",
    "print(s)"
   ]
  },
  {
   "cell_type": "markdown",
   "metadata": {},
   "source": [
    "### 2.5 time.strftime() 函數可以依照指定的格式將 struct_time 時間資料轉換為文字輸出："
   ]
  },
  {
   "cell_type": "code",
   "execution_count": 9,
   "metadata": {},
   "outputs": [
    {
     "name": "stdout",
     "output_type": "stream",
     "text": [
      "08/05/2020, 10:44:23\n"
     ]
    }
   ],
   "source": [
    "p = time.localtime(1596595463)\n",
    "d = time.strftime(\"%m/%d/%Y, %H:%M:%S\" ,p)\n",
    "print(d)"
   ]
  },
  {
   "cell_type": "markdown",
   "metadata": {},
   "source": [
    "### 2.6 time.strptime() 函數則是跟 time.strftime() 函數相反，它是依據指定的格式，解析文字資料中的時間，輸出 struct_time 格式的時間"
   ]
  },
  {
   "cell_type": "code",
   "execution_count": 10,
   "metadata": {},
   "outputs": [
    {
     "name": "stdout",
     "output_type": "stream",
     "text": [
      "time.struct_time(tm_year=2019, tm_mon=9, tm_mday=22, tm_hour=14, tm_min=57, tm_sec=52, tm_wday=6, tm_yday=265, tm_isdst=-1)\n"
     ]
    }
   ],
   "source": [
    "string = '09/22/2019, 14:57:52'\n",
    "d = time.strptime(string ,\"%m/%d/%Y, %H:%M:%S\")\n",
    "print(d)"
   ]
  },
  {
   "cell_type": "markdown",
   "metadata": {},
   "source": [
    "-------------------------------------------------------------------------------------------------------------------------------"
   ]
  },
  {
   "cell_type": "markdown",
   "metadata": {},
   "source": [
    "### 4 time.ctime() 函數可以將 time.time() 所產生的秒數，轉換為本地時間"
   ]
  },
  {
   "cell_type": "code",
   "execution_count": 11,
   "metadata": {},
   "outputs": [
    {
     "name": "stdout",
     "output_type": "stream",
     "text": [
      "本地時間 :  Wed Aug  5 11:08:16 2020\n"
     ]
    }
   ],
   "source": [
    "local_time = time.ctime(second)\n",
    "print(\"本地時間 : \", local_time )"
   ]
  },
  {
   "cell_type": "markdown",
   "metadata": {},
   "source": [
    "#### ● 如果不加任何參數，time.ctime() 會直接採用目前的時間"
   ]
  },
  {
   "cell_type": "code",
   "execution_count": 12,
   "metadata": {},
   "outputs": [
    {
     "name": "stdout",
     "output_type": "stream",
     "text": [
      "本地時間 :  Wed Aug  5 11:08:19 2020\n"
     ]
    }
   ],
   "source": [
    "local_time = time.ctime()\n",
    "print(\"本地時間 : \", local_time )"
   ]
  },
  {
   "cell_type": "markdown",
   "metadata": {},
   "source": [
    "------------------------------------------------------------------------------------------------------------------------"
   ]
  },
  {
   "cell_type": "markdown",
   "metadata": {},
   "source": [
    "### 5 time.sleep() 可以讓程式暫停指定的秒數"
   ]
  },
  {
   "cell_type": "code",
   "execution_count": 13,
   "metadata": {},
   "outputs": [
    {
     "name": "stdout",
     "output_type": "stream",
     "text": [
      "Hello\n",
      "World\n"
     ]
    }
   ],
   "source": [
    "print(\"Hello\")\n",
    "time.sleep(2)\n",
    "print(\"World\")"
   ]
  },
  {
   "cell_type": "markdown",
   "metadata": {},
   "source": [
    "### 6 倒數計時"
   ]
  },
  {
   "cell_type": "code",
   "execution_count": 14,
   "metadata": {},
   "outputs": [
    {
     "name": "stdout",
     "output_type": "stream",
     "text": [
      "20\n",
      "19\n",
      "18\n",
      "17\n",
      "16\n",
      "15\n",
      "14\n",
      "13\n",
      "12\n",
      "11\n",
      "10\n",
      "9\n",
      "8\n",
      "7\n",
      "6\n",
      "5\n",
      "4\n",
      "3\n",
      "2\n",
      "1\n",
      "0\n"
     ]
    }
   ],
   "source": [
    "for i in range(0, 21, 1):\n",
    "    print(20 - i)\n",
    "    time.sleep(1)"
   ]
  },
  {
   "cell_type": "code",
   "execution_count": null,
   "metadata": {},
   "outputs": [],
   "source": []
  },
  {
   "cell_type": "code",
   "execution_count": null,
   "metadata": {},
   "outputs": [],
   "source": []
  },
  {
   "cell_type": "code",
   "execution_count": null,
   "metadata": {},
   "outputs": [],
   "source": []
  }
 ],
 "metadata": {
  "kernelspec": {
   "display_name": "Python 3",
   "language": "python",
   "name": "python3"
  }
 },
 "nbformat": 4,
 "nbformat_minor": 2
}
