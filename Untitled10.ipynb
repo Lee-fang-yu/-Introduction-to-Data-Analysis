{
 "cells": [
  {
   "cell_type": "code",
   "execution_count": 5,
   "metadata": {},
   "outputs": [],
   "source": [
    "%matplotlib inline\n",
    "\n",
    "import numpy as np\n",
    "import matplotlib.pyplot as plt\n",
    "import pandas as pd"
   ]
  },
  {
   "cell_type": "markdown",
   "metadata": {},
   "source": [
    "### 找一個好的編輯器 : 編輯程式"
   ]
  },
  {
   "cell_type": "markdown",
   "metadata": {},
   "source": [
    "* Visual Studio Code\n",
    "* VIM\n"
   ]
  },
  {
   "cell_type": "markdown",
   "metadata": {},
   "source": [
    "### 建新的資料夾"
   ]
  },
  {
   "cell_type": "markdown",
   "metadata": {},
   "source": [
    "* '!' : 我直接下系統的指令"
   ]
  },
  {
   "cell_type": "code",
   "execution_count": 6,
   "metadata": {},
   "outputs": [],
   "source": [
    "!mkdir eggs"
   ]
  },
  {
   "cell_type": "code",
   "execution_count": 7,
   "metadata": {},
   "outputs": [
    {
     "name": "stdout",
     "output_type": "stream",
     "text": [
      " 磁碟區 C 中的磁碟是 Windows\n",
      " 磁碟區序號:  BF57-7459\n",
      "\n",
      " C:\\Users\\user.LAPTOP-F303G1VR\\Desktop\\my ai work 2\\eggs 的目錄\n",
      "\n",
      "2020/08/03  上午 03:01    <DIR>          .\n",
      "2020/08/03  上午 03:01    <DIR>          ..\n",
      "2020/08/03  上午 03:01    <DIR>          eggs\n",
      "               0 個檔案               0 位元組\n",
      "               3 個目錄  35,739,754,496 位元組可用\n"
     ]
    }
   ],
   "source": [
    "%ls"
   ]
  },
  {
   "cell_type": "code",
   "execution_count": 8,
   "metadata": {},
   "outputs": [
    {
     "name": "stdout",
     "output_type": "stream",
     "text": [
      "C:\\Users\\user.LAPTOP-F303G1VR\\Desktop\\my ai work 2\\eggs\\eggs\n"
     ]
    }
   ],
   "source": [
    "%cd eggs"
   ]
  },
  {
   "cell_type": "markdown",
   "metadata": {},
   "source": [
    "### 產生一個[1, 100]的數字"
   ]
  },
  {
   "cell_type": "code",
   "execution_count": 19,
   "metadata": {},
   "outputs": [],
   "source": [
    "from random import randint"
   ]
  },
  {
   "cell_type": "code",
   "execution_count": 20,
   "metadata": {},
   "outputs": [
    {
     "name": "stdout",
     "output_type": "stream",
     "text": [
      "48,29,72,31,39,75,48,1,94,4,8,78,93,63,26,22,78,96,81,15,93,83,50,6,57,13,27,15,27,90,53,85,5,86,26,49,2,11,91,54,50,65,32,7,83,78,64,85,98,92,27,100,93,75,44,11,22,21,53,95,11,57,13,2,14,4,40,51,97,4,69,61,1,74,56,45,37,84,46,44,74,67,71,23,95,65,49,58,4,34,34,93,99,71,82,91,81,3,13,54,"
     ]
    }
   ],
   "source": [
    "for i in range(100):\n",
    "    #會抽到100 \n",
    "    print(randint(1, 100), end= ',')"
   ]
  },
  {
   "cell_type": "code",
   "execution_count": 21,
   "metadata": {},
   "outputs": [],
   "source": [
    "import numpy as np"
   ]
  },
  {
   "cell_type": "code",
   "execution_count": 22,
   "metadata": {},
   "outputs": [
    {
     "name": "stdout",
     "output_type": "stream",
     "text": [
      "52,96,7,12,18,70,40,45,52,29,64,96,9,50,15,50,10,99,45,81,13,60,71,96,49,83,66,51,16,42,95,21,4,75,89,3,26,59,91,97,9,58,14,82,44,12,32,93,63,81,52,8,17,55,80,69,23,50,64,99,80,96,33,33,96,73,53,79,13,19,97,80,37,92,64,49,40,12,48,32,43,97,69,29,18,40,56,97,62,95,36,74,81,35,32,25,12,82,92,58,"
     ]
    }
   ],
   "source": [
    "for i in range(100):\n",
    "    #不會抽到100 #建議用\n",
    "    print(np.random.randint(1, 100), end=',')"
   ]
  },
  {
   "cell_type": "code",
   "execution_count": 24,
   "metadata": {},
   "outputs": [
    {
     "name": "stdout",
     "output_type": "stream",
     "text": [
      "你今天的幸運數字是 15!\n"
     ]
    }
   ],
   "source": [
    "n = randint(1, 100)\n",
    "print(f\"你今天的幸運數字是 {n}!\")"
   ]
  },
  {
   "cell_type": "markdown",
   "metadata": {},
   "source": [
    "### 存檔"
   ]
  },
  {
   "cell_type": "code",
   "execution_count": 25,
   "metadata": {},
   "outputs": [
    {
     "name": "stdout",
     "output_type": "stream",
     "text": [
      "The following commands were written to file `spam.py`:\n",
      "from random import randint\n",
      "n = randint(1, 100)\n",
      "print(f\"你今天的幸運數字是 {n}!\")\n"
     ]
    }
   ],
   "source": [
    "%save spam.py 19 24"
   ]
  },
  {
   "cell_type": "code",
   "execution_count": null,
   "metadata": {},
   "outputs": [],
   "source": []
  },
  {
   "cell_type": "code",
   "execution_count": null,
   "metadata": {},
   "outputs": [],
   "source": []
  },
  {
   "cell_type": "code",
   "execution_count": null,
   "metadata": {},
   "outputs": [],
   "source": []
  },
  {
   "cell_type": "code",
   "execution_count": null,
   "metadata": {},
   "outputs": [],
   "source": []
  },
  {
   "cell_type": "code",
   "execution_count": null,
   "metadata": {},
   "outputs": [],
   "source": []
  },
  {
   "cell_type": "code",
   "execution_count": null,
   "metadata": {},
   "outputs": [],
   "source": []
  }
 ],
 "metadata": {
  "kernelspec": {
   "display_name": "Python 3",
   "language": "python",
   "name": "python3"
  },
  "language_info": {
   "codemirror_mode": {
    "name": "ipython",
    "version": 3
   },
   "file_extension": ".py",
   "mimetype": "text/x-python",
   "name": "python",
   "nbconvert_exporter": "python",
   "pygments_lexer": "ipython3",
   "version": "3.7.4"
  }
 },
 "nbformat": 4,
 "nbformat_minor": 2
}
